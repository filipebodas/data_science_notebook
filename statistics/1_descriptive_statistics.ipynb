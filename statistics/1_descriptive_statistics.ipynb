{
 "cells": [
  {
   "cell_type": "markdown",
   "metadata": {},
   "source": [
    "# 1. Population and Sample"
   ]
  },
  {
   "cell_type": "markdown",
   "metadata": {},
   "source": [
    "First things first. In every statistical analysis you should define both your population and your sample. It is important in descriptive statistics to distinguish them because they require different formulas to calculate variance and standard deviation and in inferential statistics you drawn conclusion about your population from your representative sample.\n",
    "\n",
    "\n",
    "> **Population:** All items of interest (this may take a while to gather...). It all comes down on how you define your study. The broader it is, the bigger the population will be.\n",
    "  \n",
    "> **Sample:** A sample is simply a subset of your population. In many cases, you will never have acess to the entire items of your study, therefore you will never have acess to the population. So, when you define your study, you set a strategy to collect data and that group of data will for your sampling base. Look at it like your DW, that is mandatory to be accessible."
   ]
  },
  {
   "attachments": {},
   "cell_type": "markdown",
   "metadata": {},
   "source": [
    "<img src='pop_sample.png'>"
   ]
  },
  {
   "cell_type": "markdown",
   "metadata": {},
   "source": [
    "> ## 1.1. Sample"
   ]
  },
  {
   "cell_type": "markdown",
   "metadata": {},
   "source": [
    "There are factors important to determine the size of your sample.\n",
    "\n",
    " - **Variability:** The size of your sample does not matter if the caractheristics of your population are homogeneous. Your simple need to be as bigger as heterogeneous is your population.<br>\n",
    " - **Precision:** If I want more precision, I need a bigger sample. Precision is as big as small is the range of our interval <br>\n",
    " - **Level of confidence:** For more confidence, a bigger sample<br>"
   ]
  },
  {
   "cell_type": "markdown",
   "metadata": {},
   "source": [
    "The most important thing about a sample is that it is representative of our population. Here are a few types of sampling:"
   ]
  },
  {
   "attachments": {},
   "cell_type": "markdown",
   "metadata": {},
   "source": [
    "- **Random Sampling:** The probability of a data point being chosen is the same for each one of them\n",
    "\n",
    "\n",
    "- **Stratified Sampling:** Divide the population in groups with homogeneous caractheristics. I can impose restrictions on the variables in my sample\n",
    "\n",
    "<img src='strat_sample.png'>\n"
   ]
  },
  {
   "attachments": {},
   "cell_type": "markdown",
   "metadata": {},
   "source": [
    "- **Cluster Sampling:** the process is conducted on clusters of the population when they are homogeneous within yet heterogeneous internally. Each cluster is a sampling unit \n",
    "\n",
    "<img src='clust_sample.png'>"
   ]
  },
  {
   "cell_type": "markdown",
   "metadata": {},
   "source": [
    "---"
   ]
  },
  {
   "cell_type": "markdown",
   "metadata": {},
   "source": [
    "# 2. Types of Data"
   ]
  },
  {
   "cell_type": "markdown",
   "metadata": {},
   "source": [
    "There can be a lot of confusion regarding the amount of types of data that exist out there. Here, I will show you an image that I took from ChiSquared Innovations website that I hope it can make the picture more clear."
   ]
  },
  {
   "attachments": {},
   "cell_type": "markdown",
   "metadata": {},
   "source": [
    "<img src='types_data.png'>"
   ]
  },
  {
   "cell_type": "markdown",
   "metadata": {},
   "source": [
    "So, we have:\n",
    "\n",
    "> **Categorical Data (or Qualitative)**\n",
    "- *Nominal:* Brands, Subject, etc.\n",
    "- *Ordinal:* When an order is subjacent: Very Much | Much | More or Less | Hate\n",
    "- *Binary:* We can have to types of Binary data <br><br>\n",
    "    - *Simetric:* When the two options have the same intrinsic value: Male / Female\n",
    "    - *Asymmetric:* The outcomes are not equally important: Usually we assign 1 to the positive or most important outcome\n",
    "    <br>\n",
    "    \n",
    "> **Numerical Data (or Quantative)**\n",
    "- *Discrete:* We can count the outcome in a finite way: Number of apples; Number of chairs\n",
    "- *Continous:* If you increase by decimals, when you approximate, the scale won't change: Weight of a person\n",
    "\n",
    "> We also have 2 more concepts for **Quantative Data**\n",
    "- *Interval:* A classic example is temperature. The 0 is non-arbitrary if I measure in Celsius or in Farenheit. There are scales created in a conventional way \n",
    "- *Ratio:* This type of data have  true or meaningful zero: Number of objects, time or distance (I can conceptualize that I have 5 times more shoes than another person) "
   ]
  },
  {
   "cell_type": "markdown",
   "metadata": {},
   "source": [
    "---"
   ]
  },
  {
   "cell_type": "markdown",
   "metadata": {},
   "source": [
    "# 3. Measures of Central Tendency"
   ]
  },
  {
   "cell_type": "markdown",
   "metadata": {},
   "source": [
    "A measure of central tendency tries to describe a set of data by identifying the central position within that set."
   ]
  },
  {
   "cell_type": "markdown",
   "metadata": {},
   "source": [
    "> ## 3.1 Mean"
   ]
  },
  {
   "cell_type": "markdown",
   "metadata": {},
   "source": [
    "The rock star measure of central tendency! The mean is an useful when dealing with continuous data and one of its important properties is that it minimises error in the prediction of any one value in your data set.\n",
    "\n",
    "In spite of that it has the disadvantage to be sensitive to outliers."
   ]
  },
  {
   "attachments": {},
   "cell_type": "markdown",
   "metadata": {},
   "source": [
    "<img src='mean.png'>"
   ]
  },
  {
   "cell_type": "code",
   "execution_count": 1,
   "metadata": {
    "scrolled": true
   },
   "outputs": [],
   "source": [
    "numbers = [1, 2, 3, 4, 5]"
   ]
  },
  {
   "cell_type": "code",
   "execution_count": 2,
   "metadata": {},
   "outputs": [
    {
     "name": "stdout",
     "output_type": "stream",
     "text": [
      "15\n"
     ]
    }
   ],
   "source": [
    "total = 0\n",
    "\n",
    "for num in numbers:\n",
    "    total = total + num\n",
    "\n",
    "print(total)"
   ]
  },
  {
   "cell_type": "code",
   "execution_count": 3,
   "metadata": {},
   "outputs": [],
   "source": [
    "elements = len(numbers)"
   ]
  },
  {
   "cell_type": "code",
   "execution_count": 4,
   "metadata": {},
   "outputs": [
    {
     "data": {
      "text/plain": [
       "3.0"
      ]
     },
     "execution_count": 4,
     "metadata": {},
     "output_type": "execute_result"
    }
   ],
   "source": [
    "mean = total/elements\n",
    "mean"
   ]
  },
  {
   "cell_type": "markdown",
   "metadata": {},
   "source": [
    "*Lets add an outlier*"
   ]
  },
  {
   "cell_type": "code",
   "execution_count": 5,
   "metadata": {},
   "outputs": [
    {
     "data": {
      "text/plain": [
       "115"
      ]
     },
     "execution_count": 5,
     "metadata": {},
     "output_type": "execute_result"
    }
   ],
   "source": [
    "total_out = total + 100\n",
    "total_out"
   ]
  },
  {
   "cell_type": "code",
   "execution_count": 6,
   "metadata": {},
   "outputs": [
    {
     "data": {
      "text/plain": [
       "19.166666666666668"
      ]
     },
     "execution_count": 6,
     "metadata": {},
     "output_type": "execute_result"
    }
   ],
   "source": [
    "mean_2 = total_out/(len(numbers)+1)\n",
    "mean_2"
   ]
  },
  {
   "cell_type": "markdown",
   "metadata": {},
   "source": [
    "> ## 3.2 Mode"
   ]
  },
  {
   "cell_type": "markdown",
   "metadata": {},
   "source": [
    "The mode is the value with the highest frequency in our data set."
   ]
  },
  {
   "cell_type": "markdown",
   "metadata": {},
   "source": [
    "> ## 3.3 Median"
   ]
  },
  {
   "cell_type": "markdown",
   "metadata": {},
   "source": [
    "The median is the central point in our data set."
   ]
  },
  {
   "attachments": {},
   "cell_type": "markdown",
   "metadata": {},
   "source": [
    "<img src='median.png'>"
   ]
  },
  {
   "cell_type": "code",
   "execution_count": 7,
   "metadata": {},
   "outputs": [
    {
     "data": {
      "text/plain": [
       "array([13, 15, 17, 19, 21, 23, 25, 27, 29, 31])"
      ]
     },
     "execution_count": 7,
     "metadata": {},
     "output_type": "execute_result"
    }
   ],
   "source": [
    "import numpy as np\n",
    "\n",
    "a = np.arange(13, 33, step = 2)\n",
    "a"
   ]
  },
  {
   "cell_type": "code",
   "execution_count": 8,
   "metadata": {},
   "outputs": [
    {
     "data": {
      "text/plain": [
       "10"
      ]
     },
     "execution_count": 8,
     "metadata": {},
     "output_type": "execute_result"
    }
   ],
   "source": [
    "len(a)"
   ]
  },
  {
   "cell_type": "code",
   "execution_count": 9,
   "metadata": {},
   "outputs": [
    {
     "data": {
      "text/plain": [
       "5.0"
      ]
     },
     "execution_count": 9,
     "metadata": {},
     "output_type": "execute_result"
    }
   ],
   "source": [
    "# Since we have an array with an even number of elements, we just divide the data in half\n",
    "central_obs = len(a)/2\n",
    "central_obs"
   ]
  },
  {
   "cell_type": "markdown",
   "metadata": {},
   "source": [
    "Since the data set is already sorted in ascending order and in Python we start to count the position of the elements in zero. Therefore we acess the n-1 position, in this case 5 - 1 = 4"
   ]
  },
  {
   "cell_type": "code",
   "execution_count": 10,
   "metadata": {},
   "outputs": [
    {
     "data": {
      "text/plain": [
       "21"
      ]
     },
     "execution_count": 10,
     "metadata": {},
     "output_type": "execute_result"
    }
   ],
   "source": [
    "median = a[4]\n",
    "median"
   ]
  },
  {
   "cell_type": "markdown",
   "metadata": {},
   "source": [
    "Both the mode and the median do not use use all the values from the data set to compute their values, therefore they are not so sensible to outliers.\n",
    "\n",
    "Compare mean to the median is also a good way to evaluate symmetry"
   ]
  },
  {
   "cell_type": "markdown",
   "metadata": {},
   "source": [
    "---"
   ]
  },
  {
   "cell_type": "markdown",
   "metadata": {},
   "source": [
    "# 4. Measures of Dispersion"
   ]
  },
  {
   "cell_type": "markdown",
   "metadata": {},
   "source": [
    "These measures let us see how our data behaves around its Measures of Central Tendency"
   ]
  },
  {
   "cell_type": "markdown",
   "metadata": {},
   "source": [
    "> ## 4.1. Mean Absolute Deviation"
   ]
  },
  {
   "cell_type": "markdown",
   "metadata": {},
   "source": [
    "With the MAD we can calculate the average absolute distance of each point in our data set."
   ]
  },
  {
   "attachments": {},
   "cell_type": "markdown",
   "metadata": {},
   "source": [
    "<img src='mad.png'>"
   ]
  },
  {
   "cell_type": "markdown",
   "metadata": {},
   "source": [
    "We calculate the MAD because we are interest in the deviation of the points to the mean and we don't want to consider the values below the mean as negatives, so we use the absolute deviations. "
   ]
  },
  {
   "cell_type": "code",
   "execution_count": 11,
   "metadata": {},
   "outputs": [],
   "source": [
    "import pandas as pd  \n",
    "import numpy as np"
   ]
  },
  {
   "cell_type": "code",
   "execution_count": 12,
   "metadata": {},
   "outputs": [],
   "source": [
    "# create a list\n",
    "list = [93, 10, 30, 15, 64, 35]"
   ]
  },
  {
   "cell_type": "code",
   "execution_count": 13,
   "metadata": {},
   "outputs": [],
   "source": [
    "# create a series\n",
    "series = pd.Series(list)"
   ]
  },
  {
   "cell_type": "code",
   "execution_count": 14,
   "metadata": {},
   "outputs": [
    {
     "data": {
      "text/plain": [
       "24.888888888888886"
      ]
     },
     "execution_count": 14,
     "metadata": {},
     "output_type": "execute_result"
    }
   ],
   "source": [
    "mad = series.mad()\n",
    "mad"
   ]
  },
  {
   "cell_type": "markdown",
   "metadata": {},
   "source": [
    "> ## 4.2. Variance"
   ]
  },
  {
   "attachments": {},
   "cell_type": "markdown",
   "metadata": {},
   "source": [
    "<img src='variance.png'>"
   ]
  },
  {
   "cell_type": "markdown",
   "metadata": {},
   "source": [
    "The variance is a measure to calculate how a group of data points deviates from the mean. It is positive by squaring each of the deviations from our data set.\n",
    "\n",
    "If the variance around the mean is a large number, it means our data is very spreaded.\n",
    "\n",
    "The numerator from this formula, that sums all the deviation is knowned by **Sum of Squares**. This brings on problem, that it is given more weight to big data points like outliers. Secondly, the variance is not in the same units as the scores in our data set, is measured in the units squared. This means we cannot place it on our frequency distribution and cannot directly relate its value to the values in our data set. The latest can be complemented with the calculation of the standard deviation.\n"
   ]
  },
  {
   "cell_type": "markdown",
   "metadata": {},
   "source": [
    "> ## 4.3. Standard Deviation"
   ]
  },
  {
   "attachments": {},
   "cell_type": "markdown",
   "metadata": {},
   "source": [
    "<img src='Sd.png'>"
   ]
  },
  {
   "cell_type": "markdown",
   "metadata": {},
   "source": [
    "The standard deviation is useful in data that is not significantly skewed or has outliers."
   ]
  },
  {
   "cell_type": "markdown",
   "metadata": {},
   "source": [
    "> ## 4.4. Range"
   ]
  },
  {
   "attachments": {},
   "cell_type": "markdown",
   "metadata": {},
   "source": [
    "<img src='range.png'>"
   ]
  },
  {
   "cell_type": "markdown",
   "metadata": {},
   "source": [
    "Lets make an assumption that we have a list_A with 5 values out of 25 and a list_B with 5 values out of 100"
   ]
  },
  {
   "cell_type": "code",
   "execution_count": 15,
   "metadata": {},
   "outputs": [],
   "source": [
    "list_A = [10, 15, 18, 20, 20]\n",
    "list_B = [30, 35, 40, 45, 50]"
   ]
  },
  {
   "cell_type": "code",
   "execution_count": 16,
   "metadata": {},
   "outputs": [
    {
     "data": {
      "text/plain": [
       "10"
      ]
     },
     "execution_count": 16,
     "metadata": {},
     "output_type": "execute_result"
    }
   ],
   "source": [
    "range_A = max(list_A) - min(list_A)\n",
    "range_A"
   ]
  },
  {
   "cell_type": "code",
   "execution_count": 17,
   "metadata": {},
   "outputs": [
    {
     "data": {
      "text/plain": [
       "20"
      ]
     },
     "execution_count": 17,
     "metadata": {},
     "output_type": "execute_result"
    }
   ],
   "source": [
    "range_B = max(list_B) - min(list_B)\n",
    "range_B"
   ]
  },
  {
   "cell_type": "markdown",
   "metadata": {},
   "source": [
    "Apparently, list_A is more spread than list_B. However, if we look at the Coefficient our conclusion will change"
   ]
  },
  {
   "cell_type": "code",
   "execution_count": 18,
   "metadata": {},
   "outputs": [],
   "source": [
    "coef_A = range_A / (max(list_A) + min(list_A))\n",
    "coef_B = range_B / (max(list_B) + min(list_B))"
   ]
  },
  {
   "cell_type": "code",
   "execution_count": 19,
   "metadata": {},
   "outputs": [
    {
     "name": "stdout",
     "output_type": "stream",
     "text": [
      "coef_A:  0.3333333333333333\n",
      "coef_B:  0.25\n"
     ]
    }
   ],
   "source": [
    "print('coef_A: ', coef_A)\n",
    "print('coef_B: ', coef_B)"
   ]
  },
  {
   "cell_type": "markdown",
   "metadata": {},
   "source": [
    "The Coefficient of Range is the Range standardized by the sum of the max value with the min value.\n",
    "\n",
    "Since both values were taken from a sample with different sizes, the ranges cannot be compared directly and that is why we use the Coefficient.\n",
    "\n",
    "In this case, we concluded that the list_A is more disperse that B in constrast to what we conclude earlier."
   ]
  },
  {
   "cell_type": "markdown",
   "metadata": {},
   "source": [
    "> ## 4.5. Quartiles"
   ]
  },
  {
   "attachments": {},
   "cell_type": "markdown",
   "metadata": {},
   "source": [
    "<img src='outlier.png'>"
   ]
  },
  {
   "cell_type": "markdown",
   "metadata": {},
   "source": [
    "Quartiles are useful to get an idea of how spread is our data. If we add a visualization to our analysis through a boxplot, we can easily identify outliers in our data set. Outliers can be used to find errors in databases; they should be removed from the interpretation of the data, as they tend to influence the mean and standard deviation"
   ]
  },
  {
   "cell_type": "markdown",
   "metadata": {},
   "source": [
    "- **1ºQ and 3ºQ**: The quartiles are order statistics that divide the distribution into four equal parts. With observations in ascending order, the 1st quartile and the 3rd quartile accumulate respectively 25% and 75% of observations.\n",
    "\n",
    "- **IQR = Q3 - Q1:** The interquartile range is a robust measure of dispersion , defined by the difference between the 3rd and 1st quartile and covers the central observations, which correspond to 50% of the total observations, which means that neither 25% of the smallest nor 25% of the largest observations are involved in its calculation.\n",
    "\n",
    "\n",
    "The larger the box, the greater the dispersion. The height of the box represents the IQR\n",
    "\n",
    "The interquartile range has some of the same drawbacks as the range, i.e. two distributions can have the same value IQR although they have a very uneven dispersion.\n",
    "\n",
    "Quartiles are useful, but they are also somewhat limited because they do not take into account every score in our group of data. To get a more representative idea of spread we need to take into account the actual values of each score in a data set. \n",
    "\n",
    "The absolute deviation, variance and standard deviation are such measures\n"
   ]
  },
  {
   "cell_type": "markdown",
   "metadata": {},
   "source": [
    "> ## 4.6. Skewness"
   ]
  },
  {
   "cell_type": "markdown",
   "metadata": {},
   "source": [
    "The data we test is often normally distributed, since is a common assumption in statistical tests. \n",
    "\n",
    "However, our data can sometimes be skewed. The measure of asymmetry in a probability distribution is defined by Skewness. "
   ]
  },
  {
   "attachments": {},
   "cell_type": "markdown",
   "metadata": {},
   "source": [
    "<img src='skewness.png'>"
   ]
  },
  {
   "attachments": {},
   "cell_type": "markdown",
   "metadata": {},
   "source": [
    "In a situation of assymetrical data, the median is considered a best measure of central tendency than the mean. The more skewed the distribution, the greater the difference between the median and mean, and the greater emphasis should be placed on using the median as opposed to the mean.\n",
    "\n",
    "A good measurement for the skewness of a distribution is Pearson’s skewness coefficient that provides a quick estimation of a distributions symmetry.\n",
    "\n",
    "A common way to calculate skewness:\n",
    "\n",
    "<img src='sk_formula.png'>"
   ]
  },
  {
   "attachments": {},
   "cell_type": "markdown",
   "metadata": {},
   "source": [
    "<img src='sk_scale.png'>"
   ]
  },
  {
   "cell_type": "markdown",
   "metadata": {},
   "source": [
    "> ## 4.7. Kurtosis"
   ]
  },
  {
   "attachments": {},
   "cell_type": "markdown",
   "metadata": {},
   "source": [
    "<img src='kurtosis.png'>"
   ]
  },
  {
   "cell_type": "markdown",
   "metadata": {},
   "source": [
    "Measure to identify if our data set is heavy (more outliers) or light (fewer outliers) tailed. \n",
    "\n",
    "- **Mesokurtic:** The kurtosis is zero, similar to the normal distributions.\n",
    "\n",
    "- **Leptokurtic:** The tail of the distribution is heavy (outlier present) and kurtosis is higher than that of the normal distribution.\n",
    "\n",
    "- **Platykurtic_** The tail of the distribution is light and kurtosis is lesser than that of the normal distribution."
   ]
  },
  {
   "cell_type": "markdown",
   "metadata": {},
   "source": [
    "### References"
   ]
  },
  {
   "cell_type": "markdown",
   "metadata": {},
   "source": [
    "https://statistics.laerd.com/statistical-guides/measures-central-tendency-mean-mode-median.php"
   ]
  },
  {
   "cell_type": "markdown",
   "metadata": {},
   "source": [
    "https://statistics.laerd.com/statistical-guides/measures-of-spread-range-quartiles.php"
   ]
  },
  {
   "cell_type": "markdown",
   "metadata": {},
   "source": [
    "https://mba-lectures.com/statistics/descriptive-statistics/338/mean-absolute-deviation.html"
   ]
  },
  {
   "cell_type": "markdown",
   "metadata": {},
   "source": [
    "https://www.emathzone.com/tutorials/basic-statistics/range-and-coefficient-of-range.html"
   ]
  },
  {
   "cell_type": "markdown",
   "metadata": {},
   "source": [
    "https://towardsdatascience.com/skewness-kurtosis-simplified-1338e094fc85"
   ]
  }
 ],
 "metadata": {
  "kernelspec": {
   "display_name": "Python 3",
   "language": "python",
   "name": "python3"
  },
  "language_info": {
   "codemirror_mode": {
    "name": "ipython",
    "version": 3
   },
   "file_extension": ".py",
   "mimetype": "text/x-python",
   "name": "python",
   "nbconvert_exporter": "python",
   "pygments_lexer": "ipython3",
   "version": "3.8.3"
  }
 },
 "nbformat": 4,
 "nbformat_minor": 4
}
